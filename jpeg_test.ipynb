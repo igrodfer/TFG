{
 "cells": [
  {
   "cell_type": "code",
   "execution_count": 20,
   "metadata": {},
   "outputs": [],
   "source": [
    "import os\n",
    "from PIL import Image\n",
    "import numpy as np\n",
    "from skimage.metrics import structural_similarity as ssim\n"
   ]
  },
  {
   "cell_type": "code",
   "execution_count": 2,
   "metadata": {},
   "outputs": [],
   "source": [
    "def load_image_as_np(image_path:str):\n",
    "    return np.asarray(Image.open(image_path).convert('RGB'), dtype=np.uint8)\n",
    "\n",
    "def store_image_from_np(image_path:str,data:np.ndarray,format='RGB'):\n",
    "    img = Image.fromarray(data, format)\n",
    "    img.save(image_path)\n",
    "    return img"
   ]
  },
  {
   "cell_type": "code",
   "execution_count": 21,
   "metadata": {},
   "outputs": [],
   "source": [
    "\n",
    "def get_ssim(original_image,retrieved_image):\n",
    "    return ssim(original_image,retrieved_image,channel_axis=2)\n",
    "    \n",
    "def get_mse(original_image,retrieved_image):\n",
    "    #Mean Square Error\n",
    "    diff = original_image-retrieved_image\n",
    "    return (np.square(diff)).mean(axis=None)\n",
    "\n",
    "def get_psnr(original_image,retrieved_image):\n",
    "    #Peak signal to noise ratio\n",
    "    mse = get_mse(original_image,retrieved_image)\n",
    "    max = 255\n",
    "    return 20*np.log10(max)-10*np.log10(mse)\n",
    "\n",
    "metrics = {'mse':get_mse,\n",
    "           'psnr':get_psnr,\n",
    "           'ssim':get_ssim\n",
    "}"
   ]
  },
  {
   "cell_type": "code",
   "execution_count": 45,
   "metadata": {},
   "outputs": [],
   "source": [
    "wd_path = os.path.abspath(os.getcwd())\n",
    "images_root_path = os.path.join(wd_path, \"images\",\"testing_jpeg\")\n",
    "images_list_file_path = os.path.join(images_root_path,\"image_path_list.txt\")\n",
    "\n",
    "image_subdirs = ['92','90','88','85']\n",
    "with open(images_list_file_path, \"r\") as image_list_file:\n",
    "    image_path_list = image_list_file.readlines()\n",
    "\n"
   ]
  },
  {
   "cell_type": "code",
   "execution_count": 31,
   "metadata": {},
   "outputs": [],
   "source": [
    "originals = {}\n",
    "for image_name in image_path_list:\n",
    "    originals[image_name.strip()] = load_image_as_np(os.path.join(images_root_path,'100_png',image_name.strip()))"
   ]
  },
  {
   "cell_type": "code",
   "execution_count": 35,
   "metadata": {},
   "outputs": [],
   "source": [
    "def get_compression_stats(original_image,level_image):\n",
    "    res = []\n",
    "    for metric_key in metrics:\n",
    "        res.append(metrics[metric_key](original_image,level_image))\n",
    "    return res "
   ]
  },
  {
   "cell_type": "code",
   "execution_count": 46,
   "metadata": {},
   "outputs": [
    {
     "name": "stdout",
     "output_type": "stream",
     "text": [
      "[19.78542534 36.91955061  0.92901991]\n",
      "[16.70587441 38.09260514  0.94084811]\n",
      "[14.20856891 40.47007294  0.95033566]\n",
      "[12.25508038 41.84034368  0.95768046]\n"
     ]
    }
   ],
   "source": [
    "all_stats = {}\n",
    "for level in image_subdirs:\n",
    "    level_subdir = os.path.join(images_root_path,level)\n",
    "    level_stats = []\n",
    "    for original_image_name in originals.keys():\n",
    "        image_level_path = os.path.join(level_subdir,original_image_name.replace('png','jpg'))\n",
    "        image_level = load_image_as_np(image_level_path)\n",
    "        image_original = originals[original_image_name]\n",
    "        image_stats = get_compression_stats(image_original,image_level)\n",
    "        level_stats.append(image_stats)\n",
    "    level_stats = np.asarray(level_stats).mean(axis=0)\n",
    "    print(level_stats)\n",
    "    all_stats[level] = level_stats\n",
    "    \n"
   ]
  }
 ],
 "metadata": {
  "interpreter": {
   "hash": "a5b328e89baaa4db9c21183a573e2adc39fba12f4d4e82bb23a6b255fd2a24cf"
  },
  "kernelspec": {
   "display_name": "Python 3.9.12 64-bit (windows store)",
   "language": "python",
   "name": "python3"
  },
  "language_info": {
   "codemirror_mode": {
    "name": "ipython",
    "version": 3
   },
   "file_extension": ".py",
   "mimetype": "text/x-python",
   "name": "python",
   "nbconvert_exporter": "python",
   "pygments_lexer": "ipython3",
   "version": "3.9.12"
  },
  "orig_nbformat": 4
 },
 "nbformat": 4,
 "nbformat_minor": 2
}
