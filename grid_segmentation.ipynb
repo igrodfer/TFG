{
 "cells": [
  {
   "cell_type": "code",
   "execution_count": 1,
   "metadata": {},
   "outputs": [
    {
     "name": "stdout",
     "output_type": "stream",
     "text": [
      "Using the device cuda:0\n"
     ]
    }
   ],
   "source": [
    "import numpy as np\n",
    "import os\n",
    "from PIL import Image, features\n",
    "import matplotlib.pyplot as plt\n",
    "import PIL\n",
    "import torch\n",
    "from torch.utils.data import DataLoader\n",
    "import torchvision\n",
    "import torchvision.transforms as transforms\n",
    "\n",
    "import torch.nn as nn\n",
    "import torch.nn.functional as F\n",
    "import torch.optim as optim\n",
    "\n",
    "from torch.utils.tensorboard import SummaryWriter\n",
    "\n",
    "# default `log_dir` is \"runs\" - we'll be more specific here\n",
    "writer = SummaryWriter('runs/introduction')\n",
    "\n",
    "device = torch.device(\"cuda:0\" if torch.cuda.is_available() else \"cpu\")\n",
    "print(\"Using the device\",device)\n",
    "\n",
    "%reload_ext autoreload\n",
    "%autoreload 2\n"
   ]
  },
  {
   "cell_type": "code",
   "execution_count": 2,
   "metadata": {},
   "outputs": [],
   "source": [
    "def load_image_as_np(image_path):\n",
    "    return np.asarray(Image.open(image_path).convert('RGB'), dtype=np.uint8)\n",
    "\n",
    "def store_image_from_np(image_path,data,format='RGBA'):\n",
    "    img = Image.fromarray(data, format)\n",
    "    img.save(image_path)\n",
    "    return img"
   ]
  },
  {
   "cell_type": "code",
   "execution_count": 3,
   "metadata": {},
   "outputs": [],
   "source": [
    "def segment_image(image,tile_size,pad_type='reflect'):\n",
    "    img_height,img_width = image.shape[:2]\n",
    "\n",
    "    # Pads the image so it can be chunked down to a grid even if the size of the image is not\n",
    "    # divisible by the chunk size\n",
    "    v_pad = (0,tile_size - (img_height % tile_size)) if img_height % tile_size != 0 else (0,0)\n",
    "    h_pad = (0,tile_size - (img_width % tile_size)) if img_width % tile_size != 0 else (0,0)\n",
    "        \n",
    "    image = np.pad(image, (v_pad,h_pad,(0,0)), pad_type)\n",
    "\n",
    "    img_height , img_width, channels = image.shape\n",
    "\n",
    "    tiled_array =  image.reshape(img_height // tile_size,\n",
    "                                 tile_size,\n",
    "                                 img_width // tile_size,\n",
    "                                 tile_size,\n",
    "                                 channels)\n",
    "\n",
    "    tiled_array = tiled_array.swapaxes(1,2)\n",
    "\n",
    "    return np.concatenate(tiled_array,axis=0)\n"
   ]
  },
  {
   "cell_type": "code",
   "execution_count": 4,
   "metadata": {},
   "outputs": [],
   "source": [
    "def rebuild_image(tile_array,image_size):\n",
    "    img_height, img_width, channels = image_size\n",
    "    \n",
    "    tile_size = tile_array.shape[1]\n",
    "    tile_rows = int(np.ceil(img_height/tile_size))\n",
    "    tile_cols = int(np.ceil(img_width/tile_size))\n",
    "\n",
    "    tile_array = tile_array.reshape(tile_rows,\n",
    "                                    tile_cols,\n",
    "                                    tile_size,\n",
    "                                    tile_size,\n",
    "                                    channels)\n",
    "    #print(\"Rows:\",chunk_rows,\"Cols:\",chunk_cols, \"New shape:\",new_shape)\n",
    "    \n",
    "    tile_array = np.concatenate(tile_array,axis=1)\n",
    "    tile_array = np.concatenate(tile_array,axis=1)\n",
    "\n",
    "    return tile_array[:img_height,:img_width]"
   ]
  },
  {
   "cell_type": "code",
   "execution_count": 6,
   "metadata": {},
   "outputs": [],
   "source": [
    "def apply_compress_function(image, type=\"NONE\"):\n",
    "    if type=='c_net':\n",
    "        return ('c_net',image)\n",
    "    return (\"NONE\",image)\n",
    "\n",
    "\n",
    "def apply_decompression_function(compressed_image,type=\"NONE\"):\n",
    "    return compressed_image\n",
    "    "
   ]
  },
  {
   "cell_type": "code",
   "execution_count": 6,
   "metadata": {},
   "outputs": [
    {
     "name": "stdout",
     "output_type": "stream",
     "text": [
      "Original size: (900, 1200, 3)\n",
      "Number of 8x8 tiles: 16950\n",
      "Original and end images are equal: True\n",
      "With equal shape: True\n"
     ]
    }
   ],
   "source": [
    "wd_path = os.path.abspath(os.getcwd())\n",
    "image_path = os.path.join(wd_path,\"images\",\"tenemos.png\")\n",
    "image_path_out = os.path.join(wd_path,\"images\",\"tenemos_out.png\")\n",
    "tile_size= 8\n",
    "\n",
    "image = load_image_as_np(image_path)\n",
    "\n",
    "print(\"Original size:\",image.shape)\n",
    "tile_list = segment_image(image,tile_size,pad_type='reflect')\n",
    "print(f\"Number of {tile_size}x{tile_size} tiles:\",tile_list.shape[0])\n",
    "\n",
    "key, c_image = apply_compress_function(tile_list)\n",
    "dc_image = apply_decompression_function(c_image,key)\n",
    "\n",
    "end_image = rebuild_image(dc_image,image.shape)\n",
    "print(\"Original and end images are equal:\",(end_image==image).all())\n",
    "print(\"With equal shape:\",(end_image.shape==image.shape))\n",
    "\n",
    "img = store_image_from_np(image_path_out,end_image,format='RGB')\n",
    "\n",
    "#plt.imshow(end_image.astype('uint8'))\n",
    "#plt.axis('off')\n",
    "#plt.show()"
   ]
  }
 ],
 "metadata": {
  "interpreter": {
   "hash": "80eecae6fe367bf31bafaafee0935a4935edb539e731c9082f4e2c31e5b4f550"
  },
  "kernelspec": {
   "display_name": "Python 3.9.10 64-bit (windows store)",
   "language": "python",
   "name": "python3"
  },
  "language_info": {
   "codemirror_mode": {
    "name": "ipython",
    "version": 3
   },
   "file_extension": ".py",
   "mimetype": "text/x-python",
   "name": "python",
   "nbconvert_exporter": "python",
   "pygments_lexer": "ipython3",
   "version": "3.9.12"
  },
  "orig_nbformat": 4
 },
 "nbformat": 4,
 "nbformat_minor": 2
}
