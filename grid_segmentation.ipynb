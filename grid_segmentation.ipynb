{
 "cells": [
  {
   "cell_type": "code",
   "execution_count": 1,
   "metadata": {},
   "outputs": [
    {
     "name": "stdout",
     "output_type": "stream",
     "text": [
      "Using the device cuda:0\n"
     ]
    }
   ],
   "source": [
    "import numpy as np\n",
    "import os\n",
    "from PIL import Image, features\n",
    "import matplotlib.pyplot as plt\n",
    "import PIL\n",
    "import torch\n",
    "from torch.utils.data import DataLoader\n",
    "import torchvision\n",
    "import torchvision.transforms as transforms\n",
    "\n",
    "import torch.nn as nn\n",
    "import torch.nn.functional as F\n",
    "import torch.optim as optim\n",
    "\n",
    "from torch.utils.tensorboard import SummaryWriter\n",
    "\n",
    "# default `log_dir` is \"runs\" - we'll be more specific here\n",
    "writer = SummaryWriter('runs/introduction')\n",
    "\n",
    "device = torch.device(\"cuda:0\" if torch.cuda.is_available() else \"cpu\")\n",
    "print(\"Using the device\",device)\n",
    "\n",
    "%reload_ext autoreload\n",
    "%autoreload 2\n"
   ]
  },
  {
   "cell_type": "code",
   "execution_count": 2,
   "metadata": {},
   "outputs": [],
   "source": [
    "def load_image_as_np(image_path):\n",
    "    return np.asarray(Image.open(image_path).convert('RGB'), dtype=np.uint8)\n",
    "\n",
    "def store_image_from_np(image_path,data,format='RGBA'):\n",
    "    img = Image.fromarray(data, format)\n",
    "    img.save(image_path)\n",
    "    return img"
   ]
  },
  {
   "cell_type": "code",
   "execution_count": 3,
   "metadata": {},
   "outputs": [],
   "source": [
    "def segment_image(image,tile_size,pad_type='reflect'):\n",
    "    img_height,img_width = image.shape[:2]\n",
    "\n",
    "    # Pads the image so it can be chunked down to a grid even if the size of the image is not\n",
    "    # divisible by the chunk size\n",
    "    v_pad = (0,tile_size - (img_height % tile_size)) if img_height % tile_size != 0 else (0,0)\n",
    "    h_pad = (0,tile_size - (img_width % tile_size)) if img_width % tile_size != 0 else (0,0)\n",
    "        \n",
    "    image = np.pad(image, (v_pad,h_pad,(0,0)), pad_type)\n",
    "\n",
    "    img_height , img_width, channels = image.shape\n",
    "\n",
    "    tiled_array =  image.reshape(img_height // tile_size,\n",
    "                                 tile_size,\n",
    "                                 img_width // tile_size,\n",
    "                                 tile_size,\n",
    "                                 channels)\n",
    "\n",
    "    tiled_array = tiled_array.swapaxes(1,2)\n",
    "\n",
    "    return np.concatenate(tiled_array,axis=0)\n"
   ]
  },
  {
   "cell_type": "code",
   "execution_count": 4,
   "metadata": {},
   "outputs": [],
   "source": [
    "def rebuild_image(tile_array,image_size):\n",
    "    img_height, img_width, channels = image_size\n",
    "    \n",
    "    tile_size = tile_array.shape[1]\n",
    "    tile_rows = int(np.ceil(img_height/tile_size))\n",
    "    tile_cols = int(np.ceil(img_width/tile_size))\n",
    "\n",
    "    tile_array = tile_array.reshape(tile_rows,\n",
    "                                    tile_cols,\n",
    "                                    tile_size,\n",
    "                                    tile_size,\n",
    "                                    channels)\n",
    "    #print(\"Rows:\",chunk_rows,\"Cols:\",chunk_cols, \"New shape:\",new_shape)\n",
    "    \n",
    "    tile_array = np.concatenate(tile_array,axis=1)\n",
    "    tile_array = np.concatenate(tile_array,axis=1)\n",
    "\n",
    "    return tile_array[:img_height,:img_width]"
   ]
  },
  {
   "cell_type": "code",
   "execution_count": 6,
   "metadata": {},
   "outputs": [],
   "source": [
    "def apply_compress_function(image, type=\"NONE\"):\n",
    "    if type=='c_net':\n",
    "        return ('c_net',image)\n",
    "    return (\"NONE\",image)\n",
    "\n",
    "\n",
    "def apply_decompression_function(compressed_image,type=\"NONE\"):\n",
    "    return compressed_image\n",
    "    "
   ]
  },
  {
   "cell_type": "code",
   "execution_count": 6,
   "metadata": {},
   "outputs": [
    {
     "name": "stdout",
     "output_type": "stream",
     "text": [
      "Original size: (900, 1200, 3)\n",
      "Number of 8x8 tiles: 16950\n",
      "Original and end images are equal: True\n",
      "With equal shape: True\n"
     ]
    }
   ],
   "source": [
    "wd_path = os.path.abspath(os.getcwd())\n",
    "image_path = os.path.join(wd_path,\"images\",\"tenemos.png\")\n",
    "image_path_out = os.path.join(wd_path,\"images\",\"tenemos_out.png\")\n",
    "tile_size= 8\n",
    "\n",
    "image = load_image_as_np(image_path)\n",
    "\n",
    "print(\"Original size:\",image.shape)\n",
    "tile_list = segment_image(image,tile_size,pad_type='reflect')\n",
    "print(f\"Number of {tile_size}x{tile_size} tiles:\",tile_list.shape[0])\n",
    "\n",
    "key, c_image = apply_compress_function(tile_list)\n",
    "dc_image = apply_decompression_function(c_image,key)\n",
    "\n",
    "end_image = rebuild_image(dc_image,image.shape)\n",
    "print(\"Original and end images are equal:\",(end_image==image).all())\n",
    "print(\"With equal shape:\",(end_image.shape==image.shape))\n",
    "\n",
    "img = store_image_from_np(image_path_out,end_image,format='RGB')\n",
    "\n",
    "#plt.imshow(end_image.astype('uint8'))\n",
    "#plt.axis('off')\n",
    "#plt.show()"
   ]
  },
  {
   "cell_type": "code",
   "execution_count": 7,
   "metadata": {},
   "outputs": [
    {
     "ename": "NameError",
     "evalue": "name 'listdir' is not defined",
     "output_type": "error",
     "traceback": [
      "\u001b[1;31m---------------------------------------------------------------------------\u001b[0m",
      "\u001b[1;31mNameError\u001b[0m                                 Traceback (most recent call last)",
      "\u001b[1;32m~\\AppData\\Local\\Temp/ipykernel_20532/647517945.py\u001b[0m in \u001b[0;36m<module>\u001b[1;34m\u001b[0m\n\u001b[0;32m      5\u001b[0m \u001b[1;33m\u001b[0m\u001b[0m\n\u001b[0;32m      6\u001b[0m \u001b[1;33m\u001b[0m\u001b[0m\n\u001b[1;32m----> 7\u001b[1;33m \u001b[1;32mfor\u001b[0m \u001b[0mimage\u001b[0m \u001b[1;32min\u001b[0m \u001b[0mlistdir\u001b[0m\u001b[1;33m(\u001b[0m\u001b[0mimageNet_val_path\u001b[0m\u001b[1;33m)\u001b[0m\u001b[1;33m:\u001b[0m\u001b[1;33m\u001b[0m\u001b[1;33m\u001b[0m\u001b[0m\n\u001b[0m\u001b[0;32m      8\u001b[0m     \u001b[0mimage_np\u001b[0m \u001b[1;33m=\u001b[0m \u001b[0mload_image_as_np\u001b[0m\u001b[1;33m(\u001b[0m\u001b[0mjoin\u001b[0m\u001b[1;33m(\u001b[0m\u001b[0mimageNet_val_path\u001b[0m\u001b[1;33m,\u001b[0m\u001b[0mimage\u001b[0m\u001b[1;33m)\u001b[0m\u001b[1;33m)\u001b[0m\u001b[1;33m\u001b[0m\u001b[1;33m\u001b[0m\u001b[0m\n\u001b[0;32m      9\u001b[0m     \u001b[0mtile_list\u001b[0m \u001b[1;33m=\u001b[0m \u001b[0msegment_image\u001b[0m\u001b[1;33m(\u001b[0m\u001b[0mimage_np\u001b[0m\u001b[1;33m,\u001b[0m\u001b[0mtile_size\u001b[0m\u001b[1;33m,\u001b[0m\u001b[0mpad_type\u001b[0m\u001b[1;33m=\u001b[0m\u001b[1;34m'reflect'\u001b[0m\u001b[1;33m)\u001b[0m\u001b[1;33m\u001b[0m\u001b[1;33m\u001b[0m\u001b[0m\n",
      "\u001b[1;31mNameError\u001b[0m: name 'listdir' is not defined"
     ]
    }
   ],
   "source": [
    "wd_path = os.path.abspath(os.getcwd())\n",
    "imageNet_val_path = os.path.join(wd_path,'datasets','ImageNet','val','images')\n",
    "imageNetTiled_val_path = os.path.join(wd_path,'datasets','ImageNetTiled','val','images')\n",
    "tile_size= 8\n",
    "\n",
    "\n",
    "for image in listdir(imageNet_val_path):\n",
    "    image_np = load_image_as_np(join(imageNet_val_path,image))\n",
    "    tile_list = segment_image(image_np,tile_size,pad_type='reflect')\n",
    "    for i,tile in enumerate(tile_list):\n",
    "        tile_name = image[:-5]+f'_{i}'+image[-5:]\n",
    "        img = store_image_from_np(join(imageNetTiled_val_path,tile_name),tile,format='RGB')"
   ]
  },
  {
   "cell_type": "code",
   "execution_count": 8,
   "metadata": {},
   "outputs": [],
   "source": [
    "from os import listdir\n",
    "from os.path import isdir, join, isfile\n",
    "\n",
    "\n",
    "wd_path = os.path.abspath(os.getcwd())\n",
    "imageNet_train_path = os.path.join(wd_path,'datasets','ImageNet','train')\n",
    "imageNetTiled_train_path = os.path.join(wd_path,'datasets','ImageNetTiled','train')\n",
    "tile_size= 8\n",
    "\n",
    "train_folders=[]\n",
    "for d in listdir(imageNet_train_path):\n",
    "    train_folders.append(d)\n",
    "\n",
    "for d in train_folders:\n",
    "    if not isdir(join(imageNetTiled_train_path,d)):\n",
    "        os.mkdir(join(imageNetTiled_train_path,d))\n",
    "    if not isdir(join(imageNetTiled_train_path,d,'images')):\n",
    "        os.mkdir(join(imageNetTiled_train_path,d,'images'))\n",
    "        for f in listdir(join(imageNet_train_path,d,'images')):\n",
    "            image_np = load_image_as_np(join(imageNet_train_path,d,'images',f))\n",
    "            tile_list = segment_image(image_np,tile_size,pad_type='reflect')\n",
    "            for i,tile in enumerate(tile_list):\n",
    "                tile_name = f[:-5]+f'_{i}'+f[-5:]\n",
    "                img = store_image_from_np(join(imageNetTiled_train_path,d,'images',tile_name),tile,format='RGB')\n",
    "\n",
    "\n",
    "\n"
   ]
  }
 ],
 "metadata": {
  "interpreter": {
   "hash": "80eecae6fe367bf31bafaafee0935a4935edb539e731c9082f4e2c31e5b4f550"
  },
  "kernelspec": {
   "display_name": "Python 3.9.10 64-bit (windows store)",
   "language": "python",
   "name": "python3"
  },
  "language_info": {
   "codemirror_mode": {
    "name": "ipython",
    "version": 3
   },
   "file_extension": ".py",
   "mimetype": "text/x-python",
   "name": "python",
   "nbconvert_exporter": "python",
   "pygments_lexer": "ipython3",
   "version": "3.9.12"
  },
  "orig_nbformat": 4
 },
 "nbformat": 4,
 "nbformat_minor": 2
}
