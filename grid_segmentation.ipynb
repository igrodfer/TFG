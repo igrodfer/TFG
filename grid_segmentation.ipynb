{
 "cells": [
  {
   "cell_type": "code",
   "execution_count": 1,
   "metadata": {},
   "outputs": [],
   "source": [
    "import numpy as np\n",
    "import os\n",
    "from PIL import Image\n",
    "import matplotlib.pyplot as plt\n",
    "from ae import AutoEncoder\n",
    "import torch\n",
    "from skimage.metrics import structural_similarity as ssim\n",
    "from torchvision.transforms import transforms\n",
    "%reload_ext autoreload\n",
    "%autoreload 2\n"
   ]
  },
  {
   "cell_type": "code",
   "execution_count": 3,
   "metadata": {},
   "outputs": [],
   "source": [
    "def load_image_as_np(image_path):\n",
    "    return np.asarray(Image.open(image_path).convert('RGB'), dtype=np.uint8)\n",
    "\n",
    "def store_image_from_np(image_path,data,format='RGB'):\n",
    "    img = Image.fromarray(data, format)\n",
    "    img.save(image_path)\n",
    "    return img"
   ]
  },
  {
   "cell_type": "code",
   "execution_count": 4,
   "metadata": {},
   "outputs": [],
   "source": [
    "def segment_image(image,tile_size,pad_type='reflect'):\n",
    "    img_height,img_width = image.shape[:2]\n",
    "\n",
    "    # Pads the image so it can be chunked down to a grid even if the size of the image is not\n",
    "    # divisible by the chunk size\n",
    "    v_pad = (0,tile_size - (img_height % tile_size)) if img_height % tile_size != 0 else (0,0)\n",
    "    h_pad = (0,tile_size - (img_width % tile_size)) if img_width % tile_size != 0 else (0,0)\n",
    "        \n",
    "    image = np.pad(image, (v_pad,h_pad,(0,0)), pad_type)\n",
    "\n",
    "    img_height , img_width, channels = image.shape\n",
    "\n",
    "    tiled_array =  image.reshape(img_height // tile_size,\n",
    "                                 tile_size,\n",
    "                                 img_width // tile_size,\n",
    "                                 tile_size,\n",
    "                                 channels)\n",
    "\n",
    "    tiled_array = tiled_array.swapaxes(1,2)\n",
    "\n",
    "    return np.concatenate(tiled_array,axis=0)\n"
   ]
  },
  {
   "cell_type": "code",
   "execution_count": 5,
   "metadata": {},
   "outputs": [],
   "source": [
    "def rebuild_image(tile_array,image_size,tile_size):\n",
    "    img_height, img_width, channels = image_size\n",
    "    \n",
    "    tile_rows = int(np.ceil(img_height/tile_size))\n",
    "    tile_cols = int(np.ceil(img_width/tile_size))\n",
    "\n",
    "    tile_array = tile_array.reshape(tile_rows,\n",
    "                                    tile_cols,\n",
    "                                    tile_size,\n",
    "                                    tile_size,\n",
    "                                    channels)\n",
    "    \n",
    "    tile_array = np.concatenate(tile_array,axis=1)\n",
    "    tile_array = np.concatenate(tile_array,axis=1)\n",
    "\n",
    "    return tile_array[:img_height,:img_width]"
   ]
  },
  {
   "cell_type": "code",
   "execution_count": 6,
   "metadata": {},
   "outputs": [],
   "source": [
    "def get_model(model_path):\n",
    "    model = AutoEncoder.load_autoencoder(model_path)\n",
    "    return send_to_device(model)\n",
    "\n",
    "\n",
    "def send_to_device(pytorch_object):\n",
    "    device = torch.device(\"cuda:0\" if torch.cuda.is_available() else \"cpu\")\n",
    "    pytorch_object = pytorch_object.to(device)\n",
    "    return pytorch_object\n",
    "\n",
    "\n",
    "def apply_compress_function(tile_tensor, model_path):\n",
    "    model = get_model(model_path)\n",
    "    return model.encode(send_to_device(tile_tensor))\n",
    "\n",
    "def apply_decompression_function(encoded_tile_tensor,model_path) :\n",
    "    model = get_model(model_path)\n",
    "    return model.decode(encoded_tile_tensor)"
   ]
  },
  {
   "cell_type": "code",
   "execution_count": 7,
   "metadata": {},
   "outputs": [],
   "source": [
    "def make_tensor(tile_list_array:np.array)-> torch.tensor:    \n",
    "    tile_list_array = tile_list_array.swapaxes(2,3)\n",
    "    tile_list_array = tile_list_array.swapaxes(1,2)\n",
    "    \n",
    "    tile_list_tensor = torch.from_numpy(tile_list_array.astype('float32')).reshape(-1,3*8*8)\n",
    "    #print(\"Make Tensor tile_list_array.shape=\",tile_list_tensor.size())\n",
    "    return tile_list_tensor /255\n",
    "\n",
    "\n",
    "def retrieve_array(decoded_tile_tensor):\n",
    "    res = decoded_tile_tensor.detach().cpu().reshape(-1,3,8,8)\n",
    "    res = (res.numpy() * 255).astype('uint8')\n",
    "    res = res.swapaxes(1,2)    \n",
    "    res = res.swapaxes(2,3)\n",
    "    return res"
   ]
  },
  {
   "cell_type": "code",
   "execution_count": null,
   "metadata": {},
   "outputs": [],
   "source": [
    "wd_path = os.path.abspath(os.getcwd())\n",
    "models_path = os.path.join(wd_path, \"models\")\n",
    "model_used_path = os.path.join(models_path, \"ae_1.pt\")\n",
    "image_path = os.path.join(wd_path,\"images\",\"val_0_0.jpeg\")\n",
    "image_path_out = os.path.join(wd_path,\"images\",\"val_0_0_out.jpeg\")\n",
    "tile_size= 8\n",
    "\n",
    "test_image                  = load_image_as_np(image_path)\n",
    "print(\"Test Image          \",test_image.shape)\n",
    "\n",
    "tile_list                   = segment_image(test_image,tile_size=8,pad_type='reflect')\n",
    "print(\"Tile List           \",tile_list.shape)\n",
    "\n",
    "tile_tensor                 = make_tensor(tile_list)\n",
    "print(\"Tile_tensor torch   \",tile_tensor.size())\n",
    "\n",
    "compressed_image_tensor     = apply_compress_function(tile_tensor,model_used_path)\n",
    "print(\"Comp Image Tensor   \",compressed_image_tensor)\n",
    "\n",
    "#-------------------- DECOMPRESSION --------------\n",
    "decompressed_image_tensor   = apply_decompression_function(compressed_image_tensor,model_used_path)\n",
    "print(\"Rebuilt Image Tensor\",decompressed_image_tensor.size())\n",
    "\n",
    "decompresssed_image         = retrieve_array(decompressed_image_tensor)\n",
    "print(\"Rebuilt image array \",decompresssed_image.shape)\n",
    "\n",
    "end_image                   = rebuild_image(decompresssed_image,test_image.shape,tile_size)\n",
    "print(\"Rebuilt Image       \",end_image.shape)\n",
    "\n",
    "store_image_from_np(image_path_out, end_image)\n",
    "t = transforms.ToTensor()\n",
    "print(\"=\"*40)\n",
    "\n",
    "print(\"Reconstructed\")\n",
    "\n",
    "plt.imshow(end_image)\n",
    "plt.axis('off')\n",
    "plt.show()\n",
    "print(\"=\"*40)\n",
    "print(\"Original\")\n",
    "\n",
    "plt.imshow(test_image)\n",
    "\n",
    "plt.axis('off')\n",
    "plt.show()"
   ]
  },
  {
   "cell_type": "code",
   "execution_count": 53,
   "metadata": {},
   "outputs": [],
   "source": [
    "wd_path = os.path.abspath(os.getcwd())\n",
    "model_path = os.path.join(wd_path, \"models\",\"ae10_0.pt\")\n",
    "\n"
   ]
  },
  {
   "cell_type": "code",
   "execution_count": 3,
   "metadata": {},
   "outputs": [],
   "source": [
    "def get_mse(original_image,retrieved_image):\n",
    "    #Mean Square Error\n",
    "    diff = original_image-retrieved_image\n",
    "    return (np.square(diff)).mean(axis=None)"
   ]
  },
  {
   "cell_type": "code",
   "execution_count": 4,
   "metadata": {},
   "outputs": [],
   "source": [
    "def get_psnr(original_image,retrieved_image):\n",
    "    #Peak signal to noise ratio\n",
    "    mse = get_mse(original_image,retrieved_image)\n",
    "    max = 255\n",
    "    return 20*np.log10(max)-10*np.log10(mse)"
   ]
  },
  {
   "cell_type": "code",
   "execution_count": 82,
   "metadata": {},
   "outputs": [
    {
     "name": "stdout",
     "output_type": "stream",
     "text": [
      "786432\n",
      "81920\n",
      "Ratio =  9.6\n",
      "MSE : 85.55173238118489\n",
      "PSNR: 28.80851552648633\n",
      "SSIM: 0.48653362769103553\n"
     ]
    }
   ],
   "source": [
    "from autoencoder_compressor import Compressor_Decompressor\n",
    "wd_path = os.path.abspath(os.getcwd())\n",
    "model_path = os.path.join(wd_path, \"models\",\"ae10_0.pt\")\n",
    "image_path = os.path.join(wd_path,\"images\",\"testing\",\"misc\",\"4.2.03.tiff\")\n",
    "image_path_out = os.path.join(wd_path,\"images\",\"4.2.03_out.tiff\")\n",
    "\n",
    "comp = Compressor_Decompressor(model_path,compression_out=10)\n",
    "c , image_size = comp.compress_image(image_path)\n",
    "\n",
    "res = comp.decompress_image(c,image_path_out,image_size,return_image=True)\n",
    "\n",
    "original = Compressor_Decompressor.load_image_as_np(image_path)\n",
    "print(original.nbytes)\n",
    "print(np.asarray(c).nbytes)\n",
    "print(\"Ratio = \", original.nbytes/np.asarray(c).nbytes)\n",
    "print(\"MSE :\" ,get_mse(original,res))\n",
    "print(\"PSNR:\" ,get_psnr(original,res))\n",
    "print(\"SSIM:\" ,ssim(original,res,channel_axis=2))\n",
    "\n"
   ]
  }
 ],
 "metadata": {
  "interpreter": {
   "hash": "80eecae6fe367bf31bafaafee0935a4935edb539e731c9082f4e2c31e5b4f550"
  },
  "kernelspec": {
   "display_name": "Python 3.9.10 64-bit (windows store)",
   "language": "python",
   "name": "python3"
  },
  "language_info": {
   "codemirror_mode": {
    "name": "ipython",
    "version": 3
   },
   "file_extension": ".py",
   "mimetype": "text/x-python",
   "name": "python",
   "nbconvert_exporter": "python",
   "pygments_lexer": "ipython3",
   "version": "3.9.12"
  },
  "orig_nbformat": 4
 },
 "nbformat": 4,
 "nbformat_minor": 2
}
