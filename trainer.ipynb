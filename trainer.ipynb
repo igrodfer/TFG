{
 "cells": [
  {
   "cell_type": "code",
   "execution_count": 1,
   "metadata": {},
   "outputs": [
    {
     "name": "stdout",
     "output_type": "stream",
     "text": [
      "Using the device cuda:0\n"
     ]
    }
   ],
   "source": [
    "import numpy as np\n",
    "import os\n",
    "from PIL import Image, features\n",
    "import matplotlib.pyplot as plt\n",
    "import PIL\n",
    "from PIL import Image\n",
    "import torch\n",
    "import tensorflow as tf\n",
    "from torch.utils.data import DataLoader\n",
    "import torchvision\n",
    "import torchvision.transforms as transforms\n",
    "\n",
    "import torch.nn as nn\n",
    "import torch.nn.functional as F\n",
    "import torch.optim as optim\n",
    "\n",
    "from ae import AutoEncoder\n",
    "\n",
    "from torch.utils.tensorboard import SummaryWriter\n",
    "\n",
    "# default `log_dir` is \"runs\" - we'll be more specific here\n",
    "writer = SummaryWriter('runs/introduction')\n",
    "\n",
    "device = torch.device(\"cuda:0\" if torch.cuda.is_available() else \"cpu\")\n",
    "print(\"Using the device\",device)\n",
    "\n",
    "%reload_ext autoreload\n",
    "%autoreload 2\n"
   ]
  },
  {
   "cell_type": "code",
   "execution_count": 2,
   "metadata": {},
   "outputs": [],
   "source": [
    "from random import randint\n",
    "def take_random_tile(img_raw,tile_size=8,sample_shape_range=None):\n",
    "    channels, width,height=list(img_raw.shape) #(3,width,height)\n",
    "\n",
    "    if sample_shape_range != None:\n",
    "        min_size, max_size = sample_shape_range\n",
    "\n",
    "        tile_size = randint(min_size,max_size)\n",
    "\n",
    "        if tile_size > width or tile_size > height: #correct for sample sizes bigger than the image\n",
    "            tile_size = min(height,width)\n",
    "    \n",
    "    top  = randint(0,width-tile_size)\n",
    "    left = randint(0,height-tile_size)\n",
    "\n",
    "    tile_tensor = img_raw[:,top:top+tile_size,left:left+tile_size] #tile\n",
    "    #print(list(tile_tensor.shape))\n",
    "\n",
    "    if sample_shape_range != None:\n",
    "        tile_tensor = F.interpolate(tile_tensor,size=(channels,tile_size,tile_size))\n",
    "    return tile_tensor\n",
    "    \n"
   ]
  },
  {
   "cell_type": "code",
   "execution_count": 34,
   "metadata": {},
   "outputs": [],
   "source": [
    "from random import sample\n",
    "def get_tile_batch(image_list, batch_size=1000, tile_size=8, sample_shape_range=None):\n",
    "    convert_tensor = transforms.ToTensor()\n",
    "    while True:\n",
    "        tile_list = [] #initialize batch tensor\n",
    "        for i in range(batch_size):\n",
    "            next_image,=sample(image_list,k=1)\n",
    "            image_tensor = convert_tensor(Image.open(next_image).convert('RGB'))\n",
    "            tile = take_random_tile(image_tensor,tile_size,sample_shape_range)\n",
    "            #print(tile.shape)\n",
    "            tile_list.append(tile)\n",
    "\n",
    "        batch = torch.stack(tile_list)\n",
    "        yield batch"
   ]
  },
  {
   "cell_type": "code",
   "execution_count": 38,
   "metadata": {},
   "outputs": [],
   "source": [
    "from os import listdir\n",
    "from os.path import isdir, join\n",
    "\n",
    "wd_path = os.path.abspath(os.getcwd())\n",
    "root_path = os.path.join(wd_path, \"datasets\", 'ImageNet','train')\n",
    "\n",
    "\n",
    "image_path_list = []\n",
    "for d in listdir(root_path):\n",
    "    #d = n016...\n",
    "    class_path = join(root_path,d,\"images\")\n",
    "    for i in listdir(class_path):\n",
    "        #i = n016..._n.JPEG\n",
    "        image_path_list.append(join(class_path,i))\n",
    "\n",
    "batch_maker = get_tile_batch(image_path_list,batch_size=10)\n"
   ]
  },
  {
   "cell_type": "code",
   "execution_count": 39,
   "metadata": {},
   "outputs": [
    {
     "data": {
      "image/png": "[encoded data removed]",
      "text/plain": [
       "<Figure size 432x288 with 1 Axes>"
      ]
     },
     "metadata": {
      "needs_background": "light"
     },
     "output_type": "display_data"
    }
   ],
   "source": [
    "def imshow(img):\n",
    "    npimg = img.numpy()\n",
    "    plt.imshow(np.transpose(npimg, (1, 2, 0)))\n",
    "    plt.axis('off')\n",
    "\n",
    "    plt.show()\n",
    "\n",
    "# get some random training images\n",
    "batch_maker = get_tile_batch(image_path_list,batch_size=8)\n",
    "sample_images = next(batch_maker)\n",
    "\n",
    "# show images\n",
    "imshow(torchvision.utils.make_grid(sample_images))\n",
    "# print labels"
   ]
  },
  {
   "cell_type": "code",
   "execution_count": 6,
   "metadata": {},
   "outputs": [],
   "source": [
    "def train_autoencoder(epoch_size, train_loader,optimizer,model,criterion,max_epochs):\n",
    "    training_loss_history= []\n",
    "    loss = 0\n",
    "\n",
    "    for epoch_number,tiles in enumerate(train_loader):\n",
    "\n",
    "        # reshape mini-batch data to [N, 3*8*8] matrix\n",
    "        # load it to the active device\n",
    "        tiles = tiles.to(device)\n",
    "        \n",
    "        # reset the gradients back to zero\n",
    "        # PyTorch accumulates gradients on subsequent backward passes\n",
    "        optimizer.zero_grad()\n",
    "        \n",
    "        outputs = model(tiles)                 # compute reconstructions\n",
    "        train_loss = criterion(outputs, tiles.view(-1, 3*8*8)) # compute training reconstruction loss\n",
    "        train_loss.backward()                  # compute accumulated gradients\n",
    "        optimizer.step()                       # perform parameter update based on current gradients\n",
    "        loss += train_loss.item()              # add the mini-batch training loss to epoch loss\n",
    "        \n",
    "        if epoch_number%epoch_size == epoch_size-1:\n",
    "            # compute the epoch training loss\n",
    "            loss = loss / epoch_size\n",
    "\n",
    "            # display the epoch training loss\n",
    "            print(f\"epoch : {(epoch_number+1)/epoch_size}, loss = {loss:.6f}\")\n",
    "            training_loss_history.append(loss)\n",
    "            loss = 0\n",
    "            if(epoch_number >= max_epochs):\n",
    "                return training_loss_history\n",
    "    return training_loss_history"
   ]
  },
  {
   "cell_type": "code",
   "execution_count": 7,
   "metadata": {},
   "outputs": [],
   "source": [
    "net = AutoEncoder()\n",
    "net.to(device)\n",
    "batch_maker = get_tile_batch(image_path_list,batch_size=1000)\n",
    "\n",
    "criterion = nn.MSELoss()\n",
    "optimizer = optim.Adam(net.parameters(), lr=0.001)\n"
   ]
  },
  {
   "cell_type": "code",
   "execution_count": null,
   "metadata": {},
   "outputs": [],
   "source": [
    "res = train_autoencoder(10, batch_maker, optimizer, net, criterion,max_epochs=400)"
   ]
  },
  {
   "cell_type": "code",
   "execution_count": 10,
   "metadata": {},
   "outputs": [],
   "source": [
    "models_path = os.path.join(wd_path, \"models\")\n",
    "\n",
    "net.save_model(os.path.join(models_path, \"ae_0.pt\"))"
   ]
  },
  {
   "cell_type": "code",
   "execution_count": 47,
   "metadata": {},
   "outputs": [
    {
     "data": {
      "image/png": "[encoded data removed]",
      "text/plain": [
       "<Figure size 432x288 with 1 Axes>"
      ]
     },
     "metadata": {
      "needs_background": "light"
     },
     "output_type": "display_data"
    },
    {
     "name": "stdout",
     "output_type": "stream",
     "text": [
      "Original\n"
     ]
    },
    {
     "data": {
      "image/png": "[encoded data removed]",
      "text/plain": [
       "<Figure size 432x288 with 1 Axes>"
      ]
     },
     "metadata": {
      "needs_background": "light"
     },
     "output_type": "display_data"
    }
   ],
   "source": [
    "# get some random training images\n",
    "batch_maker = get_tile_batch(image_path_list,batch_size=1)\n",
    "images = next(batch_maker)\n",
    "\n",
    "images = images.to(device)\n",
    "x_r = net.encode(images[0].view(3*8*8))\n",
    "x_rebuilt_r = net.decode(x_r).detach().cpu().view(3,8,8)\n",
    "\n",
    "# show images\n",
    "imshow(torchvision.utils.make_grid(x_rebuilt_r))\n",
    "print(\"Original\")\n",
    "imshow(images[0].detach().cpu().view(3,8,8))\n",
    "# print labels"
   ]
  },
  {
   "cell_type": "code",
   "execution_count": 14,
   "metadata": {},
   "outputs": [
    {
     "data": {
      "text/plain": [
       "AutoEncoder(\n",
       "  (activation): ReLU()\n",
       "  (fc1): Linear(in_features=192, out_features=96, bias=True)\n",
       "  (fc2): Linear(in_features=96, out_features=8, bias=True)\n",
       "  (fc3): Linear(in_features=8, out_features=96, bias=True)\n",
       "  (fc4): Linear(in_features=96, out_features=192, bias=True)\n",
       ")"
      ]
     },
     "execution_count": 14,
     "metadata": {},
     "output_type": "execute_result"
    }
   ],
   "source": [
    "loaded_autoencoder = AutoEncoder.load_autoencoder(os.path.join(models_path, \"ae_0.pt\"))\n",
    "loaded_autoencoder.to(device)\n"
   ]
  },
  {
   "cell_type": "code",
   "execution_count": 48,
   "metadata": {},
   "outputs": [
    {
     "data": {
      "image/png": "[encoded data removed]",
      "text/plain": [
       "<Figure size 432x288 with 1 Axes>"
      ]
     },
     "metadata": {
      "needs_background": "light"
     },
     "output_type": "display_data"
    },
    {
     "name": "stdout",
     "output_type": "stream",
     "text": [
      "Original\n"
     ]
    },
    {
     "data": {
      "image/png": "[encoded data removed]",
      "text/plain": [
       "<Figure size 432x288 with 1 Axes>"
      ]
     },
     "metadata": {
      "needs_background": "light"
     },
     "output_type": "display_data"
    }
   ],
   "source": [
    "# get some random training images\n",
    "\n",
    "x_r = loaded_autoencoder.encode(images[0].view(3*8*8))\n",
    "x_rebuilt_r = loaded_autoencoder.decode(x_r).detach().cpu().view(3,8,8)\n",
    "\n",
    "\n",
    "# show images\n",
    "imshow(torchvision.utils.make_grid(x_rebuilt_r))\n",
    "print(\"Original\")\n",
    "imshow(images[0].detach().cpu().view(3,8,8))\n",
    "# print labels"
   ]
  }
 ],
 "metadata": {
  "interpreter": {
   "hash": "80eecae6fe367bf31bafaafee0935a4935edb539e731c9082f4e2c31e5b4f550"
  },
  "kernelspec": {
   "display_name": "Python 3.9.10 64-bit (windows store)",
   "language": "python",
   "name": "python3"
  },
  "language_info": {
   "codemirror_mode": {
    "name": "ipython",
    "version": 3
   },
   "file_extension": ".py",
   "mimetype": "text/x-python",
   "name": "python",
   "nbconvert_exporter": "python",
   "pygments_lexer": "ipython3",
   "version": "3.9.12"
  },
  "orig_nbformat": 4
 },
 "nbformat": 4,
 "nbformat_minor": 2
}
