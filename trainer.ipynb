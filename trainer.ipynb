{
 "cells": [
  {
   "cell_type": "code",
   "execution_count": 1,
   "metadata": {},
   "outputs": [
    {
     "name": "stdout",
     "output_type": "stream",
     "text": [
      "Using the device cuda:0\n"
     ]
    }
   ],
   "source": [
    "import numpy as np\n",
    "import os\n",
    "from PIL import Image, features\n",
    "import matplotlib.pyplot as plt\n",
    "import PIL\n",
    "from PIL import Image\n",
    "import torch\n",
    "import tensorflow as tf\n",
    "from torch.utils.data import DataLoader\n",
    "import torchvision\n",
    "import torchvision.transforms as transforms\n",
    "\n",
    "import torch.nn as nn\n",
    "import torch.nn.functional as F\n",
    "import torch.optim as optim\n",
    "\n",
    "from torch.utils.tensorboard import SummaryWriter\n",
    "\n",
    "# default `log_dir` is \"runs\" - we'll be more specific here\n",
    "writer = SummaryWriter('runs/introduction')\n",
    "\n",
    "device = torch.device(\"cuda:0\" if torch.cuda.is_available() else \"cpu\")\n",
    "print(\"Using the device\",device)\n",
    "\n",
    "%reload_ext autoreload\n",
    "%autoreload 2\n"
   ]
  },
  {
   "cell_type": "code",
   "execution_count": 2,
   "metadata": {},
   "outputs": [],
   "source": [
    "from random import randint\n",
    "def take_random_tile(img_raw,tile_size=8,sample_shape_range=None):\n",
    "    channels, width,height=list(img_raw.shape) #(3,width,height)\n",
    "\n",
    "    if sample_shape_range != None:\n",
    "        min_size, max_size = sample_shape_range\n",
    "\n",
    "        tile_size = randint(min_size,max_size)\n",
    "\n",
    "        if tile_size > width or tile_size > height: #correct for sample sizes bigger than the image\n",
    "            tile_size = min(height,width)\n",
    "    \n",
    "    top  = randint(0,width-tile_size)\n",
    "    left = randint(0,height-tile_size)\n",
    "\n",
    "    tile_tensor = img_raw[:,top:top+tile_size,left:left+tile_size] #tile\n",
    "    #print(list(tile_tensor.shape))\n",
    "\n",
    "    if sample_shape_range != None:\n",
    "        tile_tensor = F.interpolate(tile_tensor,size=(channels,tile_size,tile_size))\n",
    "    return tile_tensor\n",
    "    \n"
   ]
  },
  {
   "cell_type": "code",
   "execution_count": 3,
   "metadata": {},
   "outputs": [],
   "source": [
    "from random import sample\n",
    "def get_tile_batch(image_list, batch_size=1000, tile_size=8, sample_shape_range=None):\n",
    "    convert_tensor = transforms.ToTensor()\n",
    "    while True:\n",
    "        tile_list = [] #initialize batch tensor\n",
    "        for i in range(batch_size):\n",
    "            next_image,=sample(image_list,k=1)\n",
    "            #print(next_image)\n",
    "            image_tensor = convert_tensor(Image.open(next_image).convert('RGB'))\n",
    "            \n",
    "            tile = take_random_tile(image_tensor,tile_size=8)\n",
    "            #print(tile.shape)\n",
    "            tile_list.append(tile)\n",
    "\n",
    "        batch = torch.stack(tile_list)\n",
    "        yield batch"
   ]
  },
  {
   "cell_type": "code",
   "execution_count": 4,
   "metadata": {},
   "outputs": [],
   "source": [
    "from os import listdir\n",
    "from os.path import isdir, join\n",
    "\n",
    "wd_path = os.path.abspath(os.getcwd())\n",
    "root_path = os.path.join(wd_path, \"datasets\", 'ImageNet','train')\n",
    "\n",
    "# Mean and standard deviations have to be sequences (e.g. tuples),hence we add a comma after the values\n",
    "#transform = transforms.Compose([transforms.ToTensor(),transforms.Normalize((0.5,),(0.5,))]) \n",
    "#imageNet_dataset = torchvision.datasets.ImageFolder(root=root_path,transform=transform)\n",
    "#imageNet_dataloader = DataLoader(imageNet_dataset, batch_size=1000)\n",
    "\n",
    "image_path_list = []\n",
    "for d in listdir(root_path):\n",
    "    #d = n016...\n",
    "    class_path = join(root_path,d,\"images\")\n",
    "    for i in listdir(class_path):\n",
    "        #i = n016..._n.JPEG\n",
    "        image_path_list.append(join(class_path,i))\n",
    "\n",
    "batch_maker = get_tile_batch(image_path_list,batch_size=10)\n"
   ]
  },
  {
   "cell_type": "code",
   "execution_count": 5,
   "metadata": {},
   "outputs": [
    {
     "data": {
      "image/png": "[encoded data removed]",
      "text/plain": [
       "<Figure size 432x288 with 1 Axes>"
      ]
     },
     "metadata": {
      "needs_background": "light"
     },
     "output_type": "display_data"
    }
   ],
   "source": [
    "def imshow(img):\n",
    "    img = img / 2 + 0.5 # unormalize\n",
    "    npimg = img.numpy()\n",
    "    plt.imshow(np.transpose(npimg, (1, 2, 0)))\n",
    "    plt.show()\n",
    "\n",
    "# get some random training images\n",
    "sample_images = next(batch_maker)\n",
    "\n",
    "# show images\n",
    "imshow(torchvision.utils.make_grid(sample_images))\n",
    "# print labels"
   ]
  },
  {
   "cell_type": "code",
   "execution_count": 6,
   "metadata": {},
   "outputs": [],
   "source": [
    "class AutoEncoder(nn.Module):\n",
    "    def __init__(self, activation=nn.ReLU(),\n",
    "                 input_size=3*8*8, hidden_sizes=[32*3,8,32*3]):\n",
    "        super(AutoEncoder, self).__init__()\n",
    "        self.input_size = input_size\n",
    "\n",
    "        # Here we initialize our activation and set up our two linear layers\n",
    "        self.activation = activation\n",
    "        self.fc1 = nn.Linear(input_size, hidden_sizes[0])\n",
    "        self.fc2 = nn.Linear(hidden_sizes[0], hidden_sizes[1])\n",
    "        self.fc3 = nn.Linear(hidden_sizes[1], hidden_sizes[2])\n",
    "        self.fc4 = nn.Linear(hidden_sizes[2], input_size)\n",
    "\n",
    "\n",
    "    def forward(self, x):\n",
    "        x = self.encode(x)\n",
    "        x = self.decode(x)\n",
    "\n",
    "        return x\n",
    "    \n",
    "    def encode(self,x):\n",
    "        x = x.view(-1, 3*8*8)\n",
    "        x = self.fc1(x)\n",
    "        x = self.activation(x)\n",
    "        x = self.fc2(x)\n",
    "\n",
    "        return x\n",
    "    \n",
    "    def decode(self,x):        \n",
    "        x = self.activation(x)\n",
    "        x = self.fc3(x)        \n",
    "        x = self.activation(x)\n",
    "        x = self.fc4(x)\n",
    "\n",
    "        return x\n"
   ]
  },
  {
   "cell_type": "code",
   "execution_count": 7,
   "metadata": {},
   "outputs": [],
   "source": [
    "def train_autoencoder(epoch_size, train_loader,optimizer,model,criterion,margin=1e-3):\n",
    "    training_loss_history= []\n",
    "    loss = 0\n",
    "\n",
    "    for epoch_number,tiles in enumerate(train_loader):\n",
    "\n",
    "        # reshape mini-batch data to [N, 3*8*8] matrix\n",
    "        # load it to the active device\n",
    "        tiles = tiles.to(device)\n",
    "        \n",
    "        # reset the gradients back to zero\n",
    "        # PyTorch accumulates gradients on subsequent backward passes\n",
    "        optimizer.zero_grad()\n",
    "        \n",
    "        outputs = model(tiles)                 # compute reconstructions\n",
    "        train_loss = criterion(outputs, tiles.view(-1, 3*8*8)) # compute training reconstruction loss\n",
    "        train_loss.backward()                  # compute accumulated gradients\n",
    "        optimizer.step()                       # perform parameter update based on current gradients\n",
    "        loss += train_loss.item()              # add the mini-batch training loss to epoch loss\n",
    "        \n",
    "        if epoch_number%epoch_size == epoch_size-1:\n",
    "            # compute the epoch training loss\n",
    "            loss = loss / epoch_size\n",
    "\n",
    "            # display the epoch training loss\n",
    "            print(f\"epoch : {(epoch_number+1)/epoch_size}, loss = {loss:.6f}\")\n",
    "            training_loss_history.append(loss)\n",
    "            loss = 0\n",
    "            if(len(training_loss_history)>1 and training_loss_history[-2] - training_loss_history[-1] < margin):\n",
    "                return training_loss_history\n",
    "    return training_loss_history"
   ]
  },
  {
   "cell_type": "code",
   "execution_count": 11,
   "metadata": {},
   "outputs": [
    {
     "name": "stdout",
     "output_type": "stream",
     "text": [
      "epoch : 1.0, loss = 0.217729\n",
      "epoch : 2.0, loss = 0.083400\n",
      "epoch : 3.0, loss = 0.040503\n",
      "epoch : 4.0, loss = 0.034571\n",
      "epoch : 5.0, loss = 0.032108\n",
      "epoch : 6.0, loss = 0.031560\n",
      "epoch : 7.0, loss = 0.030504\n",
      "epoch : 8.0, loss = 0.028952\n",
      "epoch : 9.0, loss = 0.027178\n",
      "epoch : 10.0, loss = 0.025338\n",
      "epoch : 11.0, loss = 0.022984\n",
      "epoch : 12.0, loss = 0.020422\n",
      "epoch : 13.0, loss = 0.018538\n",
      "epoch : 14.0, loss = 0.017524\n",
      "epoch : 15.0, loss = 0.016961\n",
      "epoch : 16.0, loss = 0.016771\n",
      "epoch : 17.0, loss = 0.016463\n",
      "epoch : 18.0, loss = 0.016502\n"
     ]
    }
   ],
   "source": [
    "net = AutoEncoder()\n",
    "net.to(device)\n",
    "batch_maker = get_tile_batch(image_path_list,batch_size=1000)\n",
    "\n",
    "criterion = nn.MSELoss()\n",
    "optimizer = optim.Adam(net.parameters(), lr=0.001)\n",
    "#writer.add_graph(net.cpu(),imageNet_dataloader)\n",
    "\n",
    "res = train_autoencoder(10, batch_maker, optimizer, net, criterion,margin=1e-6)\n"
   ]
  },
  {
   "cell_type": "code",
   "execution_count": 10,
   "metadata": {},
   "outputs": [
    {
     "name": "stdout",
     "output_type": "stream",
     "text": [
      "epoch : 1.0, loss = 0.218174\n",
      "epoch : 2.0, loss = 0.091506\n",
      "epoch : 3.0, loss = 0.079568\n",
      "epoch : 4.0, loss = 0.075890\n",
      "epoch : 5.0, loss = 0.073847\n",
      "epoch : 6.0, loss = 0.072320\n",
      "epoch : 7.0, loss = 0.070464\n",
      "epoch : 8.0, loss = 0.068822\n",
      "epoch : 9.0, loss = 0.064371\n",
      "epoch : 10.0, loss = 0.060186\n",
      "epoch : 11.0, loss = 0.054310\n",
      "epoch : 12.0, loss = 0.049256\n",
      "epoch : 13.0, loss = 0.044097\n",
      "epoch : 14.0, loss = 0.040445\n",
      "epoch : 15.0, loss = 0.036967\n",
      "epoch : 16.0, loss = 0.035124\n",
      "epoch : 17.0, loss = 0.033979\n",
      "epoch : 18.0, loss = 0.032796\n",
      "epoch : 19.0, loss = 0.032484\n",
      "epoch : 20.0, loss = 0.031721\n",
      "epoch : 21.0, loss = 0.032058\n"
     ]
    }
   ],
   "source": [
    "net_sigmoid_24 = AutoEncoder(activation=nn.Sigmoid(),hidden_sizes=[32*3,8*3,32*3])\n",
    "net_sigmoid_24.to(device)\n",
    "batch_maker = get_tile_batch(image_path_list,batch_size=1000)\n",
    "\n",
    "criterion = nn.MSELoss()\n",
    "optimizer = optim.Adam(net_sigmoid_24.parameters(), lr=0.001)\n",
    "#writer.add_graph(net.cpu(),imageNet_dataloader)\n",
    "\n",
    "res = train_autoencoder(10, batch_maker, optimizer, net_sigmoid_24, criterion,margin=1e-6)"
   ]
  },
  {
   "cell_type": "code",
   "execution_count": 15,
   "metadata": {},
   "outputs": [
    {
     "data": {
      "image/png": "[encoded data removed]",
      "text/plain": [
       "<Figure size 432x288 with 1 Axes>"
      ]
     },
     "metadata": {
      "needs_background": "light"
     },
     "output_type": "display_data"
    },
    {
     "data": {
      "image/png": "[encoded data removed]",
      "text/plain": [
       "<Figure size 432x288 with 1 Axes>"
      ]
     },
     "metadata": {
      "needs_background": "light"
     },
     "output_type": "display_data"
    },
    {
     "data": {
      "image/png": "[encoded data removed]",
      "text/plain": [
       "<Figure size 432x288 with 1 Axes>"
      ]
     },
     "metadata": {
      "needs_background": "light"
     },
     "output_type": "display_data"
    }
   ],
   "source": [
    "# get some random training images\n",
    "batch_maker = get_tile_batch(image_path_list,batch_size=10)\n",
    "images = next(batch_maker)\n",
    "\n",
    "images = images.to(device)\n",
    "x_s = net_sigmoid_24.encode(images[0].view(3*8*8))\n",
    "x_rebuilt_s = net_sigmoid_24.decode(x_s).detach().cpu().view(3,8,8)\n",
    "\n",
    "x_r = net.encode(images[0].view(3*8*8))\n",
    "x_rebuilt_r = net_sigmoid_24.decode(x_s).detach().cpu().view(3,8,8)\n",
    "# show images\n",
    "imshow(torchvision.utils.make_grid(x_rebuilt_r))\n",
    "imshow(torchvision.utils.make_grid(x_rebuilt_s))\n",
    "imshow(images[0].detach().cpu().view(3,8,8))\n",
    "# print labels"
   ]
  },
  {
   "cell_type": "code",
   "execution_count": null,
   "metadata": {},
   "outputs": [],
   "source": []
  }
 ],
 "metadata": {
  "interpreter": {
   "hash": "80eecae6fe367bf31bafaafee0935a4935edb539e731c9082f4e2c31e5b4f550"
  },
  "kernelspec": {
   "display_name": "Python 3.9.10 64-bit (windows store)",
   "language": "python",
   "name": "python3"
  },
  "language_info": {
   "codemirror_mode": {
    "name": "ipython",
    "version": 3
   },
   "file_extension": ".py",
   "mimetype": "text/x-python",
   "name": "python",
   "nbconvert_exporter": "python",
   "pygments_lexer": "ipython3",
   "version": "3.9.12"
  },
  "orig_nbformat": 4
 },
 "nbformat": 4,
 "nbformat_minor": 2
}
