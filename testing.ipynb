{
 "cells": [
  {
   "cell_type": "code",
   "execution_count": 1,
   "metadata": {},
   "outputs": [],
   "source": [
    "import numpy as np\n",
    "import os\n",
    "from skimage.metrics import structural_similarity as ssim\n",
    "from autoencoder_compressor import Compressor_Decompressor\n",
    "import ae\n",
    "%reload_ext autoreload\n",
    "%autoreload 2"
   ]
  },
  {
   "cell_type": "code",
   "execution_count": 5,
   "metadata": {},
   "outputs": [],
   "source": [
    "def get_ssim(original_image,retrieved_image):\n",
    "    return ssim(original_image,retrieved_image,axis=2)"
   ]
  },
  {
   "cell_type": "code",
   "execution_count": 2,
   "metadata": {},
   "outputs": [],
   "source": [
    "def get_mse(original_image,retrieved_image):\n",
    "    #Mean Square Error\n",
    "    diff = original_image-retrieved_image\n",
    "    return (np.square(diff)).mean(axis=None)"
   ]
  },
  {
   "cell_type": "code",
   "execution_count": 3,
   "metadata": {},
   "outputs": [],
   "source": [
    "def get_psnr(original_image,retrieved_image):\n",
    "    #Peak signal to noise ratio\n",
    "    mse = get_mse(original_image,retrieved_image)\n",
    "    max = 255\n",
    "    return 20*np.log10(max)-10*np.log10(mse)"
   ]
  },
  {
   "cell_type": "code",
   "execution_count": 6,
   "metadata": {},
   "outputs": [],
   "source": [
    "metrics = {'mse':get_mse,\n",
    "           'psnr':get_psnr,\n",
    "           'ssim':get_ssim\n",
    "}"
   ]
  },
  {
   "cell_type": "code",
   "execution_count": null,
   "metadata": {},
   "outputs": [],
   "source": [
    "def get_compression_stats(model,image_path):\n",
    "    c , image_size = model.compress_image(image_path)\n",
    "    d = model.decompress_image(c,image_path_out,image_size,return_image=True)\n",
    "    res = {}\n",
    "    for metric_key in metrics:\n",
    "        res[metric_key] = metrics[metric_key](c,d)\n",
    "    return res\n"
   ]
  },
  {
   "cell_type": "code",
   "execution_count": null,
   "metadata": {},
   "outputs": [],
   "source": [
    "def test_model(models_root:str,model_name:str,image_list:list,compression_out:int,model_type=ae.Autoencoder_5hidden):\n",
    "    model_path = os.path.join(models_root,model_name)\n",
    "    res = {'name':model_name}\n",
    "    model = Compressor_Decompressor(model_path,ae.Autoencoder_5hidden,compression_out)\n",
    "    results_per_image = []\n",
    "    for image_path in image_list:\n",
    "        results_per_image.append(get_compression_stats(model,image_path))\n",
    "    for metric_key in metrics:\n",
    "        metric_result = np.asarray([image_result[metric_key] for image_result in results_per_image])\n",
    "        res[metric_key] = metric_result.mean(axis=None)\n",
    "    return res #{'name':'ae...','mse':23,'psnr':200,'ssim':0.8}"
   ]
  },
  {
   "cell_type": "code",
   "execution_count": null,
   "metadata": {},
   "outputs": [],
   "source": [
    "def test_all_models(models_root:str,model_name_dict:dict):\n",
    "    metrics = []\n",
    "    for model_name in model_name_dict:\n",
    "        "
   ]
  },
  {
   "cell_type": "code",
   "execution_count": 4,
   "metadata": {},
   "outputs": [
    {
     "name": "stdout",
     "output_type": "stream",
     "text": [
      "196608\n",
      "16384\n",
      "Ratio =  12.0\n",
      "MSE : 76.15682474772136\n",
      "PSNR: 29.313715324149495\n",
      "SSIM: 0.8228937425419258\n"
     ]
    }
   ],
   "source": [
    "\n",
    "wd_path = os.path.abspath(os.getcwd())\n",
    "model_path = os.path.join(wd_path, \"models\",\"ae_5_10_0.pt\")\n",
    "image_path = os.path.join(wd_path,\"images\",\"testing\",\"misc\",\"5.1.13.tiff\")\n",
    "image_path_out = os.path.join(wd_path,\"images\",\"5.1.13_out.tiff\")\n",
    "\n",
    "comp = Compressor_Decompressor(model_path,ae.Autoencoder_5hidden,compression_out=8)\n",
    "c , image_size = comp.compress_image(image_path)\n",
    "\n",
    "res = comp.decompress_image(c,image_path_out,image_size,return_image=True)\n",
    "\n",
    "original = Compressor_Decompressor.load_image_as_np(image_path)\n",
    "print(original.nbytes)\n",
    "print(np.asarray(c).nbytes)\n",
    "print(\"Ratio = \", original.nbytes/np.asarray(c).nbytes)\n",
    "print(\"MSE :\" ,get_mse(original,res))\n",
    "print(\"PSNR:\" ,get_psnr(original,res))\n",
    "print(\"SSIM:\" ,ssim(original,res,channel_axis=2))"
   ]
  }
 ],
 "metadata": {
  "interpreter": {
   "hash": "80eecae6fe367bf31bafaafee0935a4935edb539e731c9082f4e2c31e5b4f550"
  },
  "kernelspec": {
   "display_name": "Python 3.9.12 64-bit (windows store)",
   "language": "python",
   "name": "python3"
  },
  "language_info": {
   "codemirror_mode": {
    "name": "ipython",
    "version": 3
   },
   "file_extension": ".py",
   "mimetype": "text/x-python",
   "name": "python",
   "nbconvert_exporter": "python",
   "pygments_lexer": "ipython3",
   "version": "3.9.12"
  },
  "orig_nbformat": 4
 },
 "nbformat": 4,
 "nbformat_minor": 2
}
